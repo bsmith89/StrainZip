{
 "cells": [
  {
   "cell_type": "code",
   "execution_count": null,
   "metadata": {},
   "outputs": [],
   "source": [
    "%load_ext autoreload"
   ]
  },
  {
   "cell_type": "raw",
   "metadata": {},
   "source": [
    "from jax.experimental.compilation_cache import compilation_cache as cc\n",
    "\n",
    "# cc.initialize_cache(\"/tmp/jax-cache\")\n",
    "cc.set_cache_dir(\"/tmp/jax-cache\")"
   ]
  },
  {
   "cell_type": "code",
   "execution_count": null,
   "metadata": {},
   "outputs": [],
   "source": [
    "import numpy as np\n",
    "import statsmodels.api as sm\n",
    "from statsmodels.genmod.families.links import Link, Log as LogLink\n",
    "import scipy as sp\n",
    "import scipy.stats\n",
    "import matplotlib.pyplot as plt\n",
    "import matplotlib as mpl\n",
    "import strainzip as sz\n",
    "import seaborn as sns\n",
    "\n",
    "from strainzip import depth_model\n",
    "import strainzip as sz\n",
    "\n",
    "import pandas as pd"
   ]
  },
  {
   "cell_type": "code",
   "execution_count": null,
   "metadata": {},
   "outputs": [],
   "source": [
    "%autoreload"
   ]
  },
  {
   "cell_type": "code",
   "execution_count": null,
   "metadata": {},
   "outputs": [],
   "source": [
    "import graph_tool as gt\n",
    "\n",
    "def test_unzip_lolipops():\n",
    "    _graph = gt.Graph()\n",
    "    _graph.add_edge_list([\n",
    "        (0, 1), (1, 2), (2, 0), (0, 3), # Out lolipop\n",
    "        (4, 5), (5, 6), (6, 4), (7, 4), # In lolipop\n",
    "    ])\n",
    "    _graph.vp[\"filter\"] = _graph.new_vertex_property(\"bool\", val=True)\n",
    "    _graph.set_vertex_filter(_graph.vp[\"filter\"])\n",
    "    gm = sz.graph_manager.GraphManager()\n",
    "    gm.validate(_graph)\n",
    "    sz.draw.draw_graph(_graph, ink_scale=1, output_size=(200, 200), vertex_text=_graph.vertex_index)\n",
    "    unitig_paths = [tuple(u) for u in sz.assembly.iter_maximal_unitig_paths(_graph)]\n",
    "    assert set(frozenset(u) for u in unitig_paths) == {frozenset([0, 1, 2]), frozenset([4, 5, 6])}\n",
    "    gm.batch_press(_graph, *[(list(path), {}) for path in unitig_paths])\n",
    "    sz.draw.draw_graph(_graph, ink_scale=1, output_size=(200, 200), vertex_text=_graph.vertex_index)\n",
    "\n",
    "    gm.batch_unzip(_graph, (9, [(9, 9), (7, 9)], {}), (8, [(8, 8), (8, 3)], {}))\n",
    "    sz.draw.draw_graph(_graph, ink_scale=1, output_size=(200, 200), vertex_text=_graph.vertex_index)\n",
    "    # return sz.stats.degree_stats(_graph).sort_index().reset_index().values\n",
    "    assert (sz.stats.degree_stats(_graph).sort_index().reset_index().values == np.array([[0., 1., 1.],\n",
    "       [1., 0., 1.],\n",
    "       [1., 1., 2.],\n",
    "       [1., 2., 1.],\n",
    "       [2., 1., 1.]])).all()\n",
    "\n",
    "test_unzip_lolipops()"
   ]
  },
  {
   "cell_type": "code",
   "execution_count": null,
   "metadata": {},
   "outputs": [],
   "source": [
    "model = sz.depth_model\n",
    "seed = 1\n",
    "alpha = 1e-0  # Small offset for handling 0s in depths\n",
    "n, m = 3, 4  # In-edges / out-edges\n",
    "s_samples = 10\n",
    "sigma = 1e-2  # Scale of the multiplicative noise\n",
    "depth_multiplier = 2  # Scaling factor for depths\n",
    "num_excess_paths = 1  # How many extra paths to include beyond correct ones.\n",
    "\n",
    "np.random.seed(seed)\n",
    "\n",
    "r_edges, p_paths = (n + m, n * m)\n",
    "X = sz.deconvolution.design_paths(n, m)[0]\n",
    "assert X.shape == (r_edges, p_paths)\n",
    "\n",
    "# Select which pairs of in/out edges are \"real\" and assign them weights across samples.\n",
    "active_paths = sz.deconvolution.simulate_active_paths(n, m, excess=num_excess_paths)\n",
    "active_paths = [i for i, _ in active_paths]\n",
    "print(active_paths)\n",
    "beta = np.zeros((p_paths, s_samples))\n",
    "beta[active_paths, :] = np.random.lognormal(\n",
    "    mean=-1, sigma=4, size=(len(active_paths), s_samples)\n",
    ")\n",
    "beta = beta.round(1) * depth_multiplier  # Structural zeros\n",
    "\n",
    "\n",
    "# Simulate the observed depth of each edge.\n",
    "expect = X @ (beta)\n",
    "log_noise = np.random.normal(loc=0, scale=1, size=expect.shape)\n",
    "y_obs = expect * np.exp(log_noise * sigma)\n",
    "\n",
    "\n",
    "print(-model.loglik(beta, sigma, y_obs, X, alpha=alpha))\n",
    "\n",
    "# # Simulate a selection of paths during the estimation procedure.\n",
    "# # Possibly over-specified. (see `num_excess_paths`)\n",
    "# _active_paths = list(\n",
    "#     sorted(\n",
    "#         set(active_paths)\n",
    "#         | set(\n",
    "#             np.random.choice(\n",
    "#                 [p for p in range(p_paths) if p not in active_paths],\n",
    "#                 replace=False,\n",
    "#                 size=num_excess_paths,\n",
    "#             )\n",
    "#         )\n",
    "#     )\n",
    "# )\n",
    "# X_reduced = X[:, _active_paths]\n",
    "\n",
    "# # Estimate model parameters\n",
    "# beta_est, sigma_est, _ = model.fit(y_obs, X_reduced, alpha=alpha)\n",
    "\n",
    "# # Calculate likelihood\n",
    "# loglik = -model.negloglik(beta_est, sigma_est, y_obs, X_reduced, alpha=alpha)\n",
    "# assert np.isfinite(loglik)\n",
    "\n",
    "# # Estimate standard errors.\n",
    "# beta_stderr, sigma_stderr = model.estimate_stderr(\n",
    "#     y_obs, X_reduced, beta_est, sigma_est, alpha=alpha\n",
    "# )\n",
    "\n",
    "# # Check model identifiable.\n",
    "# assert np.isfinite(beta_stderr).all()\n",
    "# assert np.isfinite(sigma_stderr)\n",
    "\n",
    "sns.heatmap(pd.DataFrame(y_obs), norm=mpl.colors.SymLogNorm(1e-1, vmin=-1e4, vmax=1e4), yticklabels=1, cmap='coolwarm')"
   ]
  },
  {
   "cell_type": "code",
   "execution_count": null,
   "metadata": {},
   "outputs": [],
   "source": [
    "print(-model.loglik(np.zeros_like(beta), sigma, y_obs, X, alpha=alpha))\n"
   ]
  },
  {
   "cell_type": "code",
   "execution_count": null,
   "metadata": {},
   "outputs": [],
   "source": [
    "sns.heatmap(pd.DataFrame(beta[active_paths, :], index=active_paths), norm=mpl.colors.SymLogNorm(1e-1, vmin=-1e4, vmax=1e4), yticklabels=1, cmap='coolwarm')"
   ]
  },
  {
   "cell_type": "code",
   "execution_count": null,
   "metadata": {},
   "outputs": [],
   "source": [
    "%time fit = sz.depth_model.fit(y_obs, X[:,active_paths], alpha=5.)"
   ]
  },
  {
   "cell_type": "code",
   "execution_count": null,
   "metadata": {},
   "outputs": [],
   "source": [
    "sns.heatmap(\n",
    "    pd.DataFrame(fit.beta, index=active_paths),\n",
    "    norm=mpl.colors.SymLogNorm(1e-1, vmin=-1e3, vmax=1e3),\n",
    "    yticklabels=1,\n",
    "    cmap='coolwarm',\n",
    ")"
   ]
  },
  {
   "cell_type": "code",
   "execution_count": null,
   "metadata": {},
   "outputs": [],
   "source": [
    "sns.heatmap(\n",
    "    pd.DataFrame(beta[active_paths] - fit.beta, index=active_paths),\n",
    "    norm=mpl.colors.SymLogNorm(1e-1, vmin=-1e4, vmax=1e4),\n",
    "    yticklabels=1,\n",
    "    cmap='coolwarm',\n",
    ")"
   ]
  },
  {
   "cell_type": "code",
   "execution_count": null,
   "metadata": {},
   "outputs": [],
   "source": [
    "sns.heatmap(\n",
    "    fit.stderr_beta,\n",
    "    norm=mpl.colors.SymLogNorm(1e-1, vmin=-1e5, vmax=1e5),\n",
    "    yticklabels=1,\n",
    "    cmap='coolwarm',\n",
    ")"
   ]
  },
  {
   "cell_type": "code",
   "execution_count": null,
   "metadata": {},
   "outputs": [],
   "source": [
    "d = pd.DataFrame(dict(\n",
    "    depth=pd.DataFrame(beta[active_paths], index=active_paths).stack(),\n",
    "    depth_est=fit.beta.ravel(),\n",
    "    err=(fit.beta - beta[active_paths]).ravel(),\n",
    "    stderr_est=fit.stderr_beta.ravel(),\n",
    "    )).rename_axis(['path', 'sample']).reset_index()\n",
    "\n",
    "plt.scatter('depth', 'err', data=d, c='stderr_est', norm=mpl.colors.SymLogNorm(1e-1))\n",
    "plt.colorbar()\n",
    "\n",
    "xx = np.logspace(-3, 5)\n",
    "plt.plot(xx, xx)\n",
    "plt.plot(xx, -xx)\n",
    "plt.plot(xx, np.zeros_like(xx), lw=1, linestyle='--')\n",
    "plt.xscale('symlog', linthresh=1e-2)\n",
    "plt.yscale('symlog', linthresh=1e-2)"
   ]
  },
  {
   "cell_type": "code",
   "execution_count": null,
   "metadata": {},
   "outputs": [],
   "source": [
    "plt.scatter('stderr_est', 'err', data=d, c='stderr_est', norm=mpl.colors.SymLogNorm(1e-1))\n",
    "plt.colorbar()\n",
    "\n",
    "xx = np.logspace(-4, 5)\n",
    "plt.plot(xx, xx)\n",
    "plt.plot(xx, -xx)\n",
    "plt.plot(xx, np.zeros_like(xx), lw=1, linestyle='--')\n",
    "plt.xscale('symlog', linthresh=1e-1)\n",
    "plt.yscale('symlog', linthresh=1e-1)"
   ]
  },
  {
   "cell_type": "code",
   "execution_count": null,
   "metadata": {},
   "outputs": [],
   "source": [
    "selected_paths, delta_aic = (\n",
    "    sz.deconvolution.select_paths(\n",
    "        X,\n",
    "        y_obs,\n",
    "        model=sz.depth_model,\n",
    "        forward_stop=0,\n",
    "        backward_stop=0,\n",
    "        alpha=alpha,\n",
    "        verbose=True,\n",
    "    )\n",
    ")\n",
    "print(set(selected_paths) - set(active_paths), set(selected_paths) & set(active_paths), set(active_paths) - set(selected_paths), )"
   ]
  },
  {
   "cell_type": "code",
   "execution_count": null,
   "metadata": {},
   "outputs": [],
   "source": [
    "debug"
   ]
  },
  {
   "cell_type": "code",
   "execution_count": null,
   "metadata": {},
   "outputs": [],
   "source": [
    "delta_aic"
   ]
  },
  {
   "cell_type": "code",
   "execution_count": null,
   "metadata": {},
   "outputs": [],
   "source": [
    "fit = sz.depth_model.fit(y_obs, X[:, selected_paths], alpha=alpha)"
   ]
  },
  {
   "cell_type": "code",
   "execution_count": null,
   "metadata": {},
   "outputs": [],
   "source": [
    "all_paths = list(sorted(set(selected_paths) | set(active_paths)))"
   ]
  },
  {
   "cell_type": "code",
   "execution_count": null,
   "metadata": {},
   "outputs": [],
   "source": [
    "y_predict = X[:, selected_paths] @ fit.beta\n",
    "\n",
    "sns.heatmap(\n",
    "    pd.DataFrame(y_predict - y_obs),\n",
    "    norm=mpl.colors.SymLogNorm(1e-1, vmin=-1e2, vmax=1e2),\n",
    "    yticklabels=1,\n",
    "    cmap='coolwarm',\n",
    ")"
   ]
  },
  {
   "cell_type": "code",
   "execution_count": null,
   "metadata": {},
   "outputs": [],
   "source": [
    "depth_est = pd.DataFrame(fit.beta, index=selected_paths).reindex(all_paths, fill_value=0)\n",
    "sns.heatmap(\n",
    "    depth_est,\n",
    "    norm=mpl.colors.SymLogNorm(1e-1, vmin=-1e2, vmax=1e2),\n",
    "    yticklabels=1,\n",
    "    cmap='coolwarm',\n",
    ")"
   ]
  },
  {
   "cell_type": "code",
   "execution_count": null,
   "metadata": {},
   "outputs": [],
   "source": [
    "depth = pd.DataFrame(beta[active_paths, :], index=active_paths).reindex(all_paths, fill_value=0)\n",
    "sns.heatmap(\n",
    "    depth,\n",
    "    norm=mpl.colors.SymLogNorm(1e-1, vmin=-1e2, vmax=1e2),\n",
    "    yticklabels=1,\n",
    "    cmap='coolwarm',\n",
    ")"
   ]
  },
  {
   "cell_type": "code",
   "execution_count": null,
   "metadata": {},
   "outputs": [],
   "source": [
    "err = depth_est - depth\n",
    "sns.heatmap(\n",
    "    err,\n",
    "    norm=mpl.colors.SymLogNorm(1e-1, vmin=-1e2, vmax=1e2),\n",
    "    yticklabels=1,\n",
    "    cmap='coolwarm',\n",
    ")"
   ]
  },
  {
   "cell_type": "code",
   "execution_count": null,
   "metadata": {},
   "outputs": [],
   "source": [
    "err_est = pd.DataFrame(fit.stderr_beta, index=selected_paths).reindex(all_paths, fill_value=0)\n",
    "sns.heatmap(\n",
    "    err_est,\n",
    "    norm=mpl.colors.SymLogNorm(1e-1, vmin=-1e3, vmax=1e3),\n",
    "    yticklabels=1,\n",
    "    cmap='coolwarm',\n",
    ")"
   ]
  },
  {
   "cell_type": "code",
   "execution_count": null,
   "metadata": {},
   "outputs": [],
   "source": [
    "d = pd.DataFrame(dict(\n",
    "    depth=depth.stack(),\n",
    "    depth_est=depth_est.stack(),\n",
    "    err=err.stack(),\n",
    "    stderr_est=err_est.stack(),\n",
    ")).rename_axis(['path', 'sample']).reset_index().assign(\n",
    "    false_positive=lambda x: x.path.isin(set(selected_paths) - set(active_paths)),\n",
    "    false_negative=lambda x: x.path.isin(set(active_paths) - set(selected_paths)),\n",
    ")\n",
    "xx = np.logspace(-1, 5)\n",
    "\n",
    "plt.scatter('depth', 'err', data=d, c='false_positive')\n",
    "plt.plot(xx, xx)\n",
    "plt.plot(xx, -xx)\n",
    "plt.xscale('symlog', linthresh=1e-1)\n",
    "plt.yscale('symlog', linthresh=1e-1)"
   ]
  },
  {
   "cell_type": "code",
   "execution_count": null,
   "metadata": {},
   "outputs": [],
   "source": [
    "d = pd.DataFrame(dict(\n",
    "    depth=depth.stack(),\n",
    "    depth_est=depth_est.stack(),\n",
    "    err=err.stack(),\n",
    "    stderr_est=err_est.stack(),\n",
    ")).rename_axis(['path', 'sample']).reset_index().assign(\n",
    "    false_positive=lambda x: x.path.isin(set(selected_paths) - set(active_paths)),\n",
    "    false_negative=lambda x: x.path.isin(set(active_paths) - set(selected_paths)),\n",
    ")\n",
    "xx = np.logspace(-1, 3)\n",
    "\n",
    "plt.scatter('stderr_est', 'err', data=d)\n",
    "plt.plot(xx, xx)\n",
    "plt.plot(xx, -xx)\n",
    "plt.xscale('symlog', linthresh=1e-1)\n",
    "plt.yscale('symlog', linthresh=1e-1)"
   ]
  },
  {
   "cell_type": "code",
   "execution_count": null,
   "metadata": {},
   "outputs": [],
   "source": []
  }
 ],
 "metadata": {
  "kernelspec": {
   "display_name": "strainzip",
   "language": "python",
   "name": "strainzip"
  },
  "language_info": {
   "codemirror_mode": {
    "name": "ipython",
    "version": 3
   },
   "file_extension": ".py",
   "mimetype": "text/x-python",
   "name": "python",
   "nbconvert_exporter": "python",
   "pygments_lexer": "ipython3",
   "version": "3.12.2"
  }
 },
 "nbformat": 4,
 "nbformat_minor": 5
}