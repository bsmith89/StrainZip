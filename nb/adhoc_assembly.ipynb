{
 "cells": [
  {
   "cell_type": "raw",
   "metadata": {},
   "source": [
    "!date"
   ]
  },
  {
   "cell_type": "raw",
   "metadata": {},
   "source": [
    "%load_ext autoreload\n",
    "%load_ext line_profiler"
   ]
  },
  {
   "cell_type": "code",
   "execution_count": null,
   "metadata": {},
   "outputs": [],
   "source": [
    "import os as _os\n",
    "_os.chdir(_os.environ['PROJECT_ROOT'])"
   ]
  },
  {
   "cell_type": "code",
   "execution_count": null,
   "metadata": {},
   "outputs": [],
   "source": [
    "import strainzip as sz\n",
    "import graph_tool as gt\n",
    "import graph_tool.draw\n",
    "import numpy as np\n",
    "import matplotlib.pyplot as plt\n",
    "import matplotlib as mpl\n",
    "import seaborn as sns\n",
    "import pandas as pd\n",
    "from contextlib import contextmanager\n",
    "import xarray as xr\n",
    "from itertools import product\n",
    "from tqdm import tqdm\n",
    "from itertools import chain\n",
    "from strainzip.pandas_util import idxwhere\n",
    "from graph_tool.util import find_edge"
   ]
  },
  {
   "cell_type": "code",
   "execution_count": null,
   "metadata": {},
   "outputs": [],
   "source": [
    "import jax\n",
    "\n",
    "from jax.experimental.compilation_cache import compilation_cache as _cc\n",
    "_cc.set_cache_dir(\"/tmp/jax-cache\")  # FIXME (2024-04-20): This should definitely not be hard-coded in.\n",
    "\n",
    "import logging\n",
    "logging.getLogger(\"jax\").setLevel(logging.DEBUG)"
   ]
  },
  {
   "cell_type": "code",
   "execution_count": null,
   "metadata": {},
   "outputs": [],
   "source": [
    "# Plotting parameters\n",
    "\n",
    "length_bins = np.logspace(0, 6.5, num=51)\n",
    "depth_bins = np.logspace(-1, 4, num=51)"
   ]
  },
  {
   "cell_type": "code",
   "execution_count": null,
   "metadata": {},
   "outputs": [],
   "source": [
    "# Load graph\n",
    "full_graph = sz.io.load_graph(f'examples/xjin_test4/r.proc.kmtricks-k111-m3-r2.ggcat.gt')\n",
    "full_graph.gp['kmer_length'] = full_graph.new_graph_property('int', val=full_graph.gp['kmer_size'])  # FIXME: Renaming this due to an oversight that has been since fixed."
   ]
  },
  {
   "cell_type": "code",
   "execution_count": null,
   "metadata": {},
   "outputs": [],
   "source": [
    "with open(f'examples/xjin_test4/r.proc.kmtricks-k111-m3-r2.ggcat.fn') as f:\n",
    "    _, unitig_to_sequence = sz.io.load_graph_and_sequences_from_linked_fasta(f, 111, sz.io.ggcat_header_tokenizer)"
   ]
  },
  {
   "cell_type": "code",
   "execution_count": null,
   "metadata": {},
   "outputs": [],
   "source": [
    "# Select components in a deterministic way (from largest to smallest).\n",
    "\n",
    "component_graphs = []\n",
    "\n",
    "graph_remaining = full_graph.new_vertex_property('bool', val=True)\n",
    "\n",
    "last_graph_size = 1_000_000\n",
    "while last_graph_size > 1000:\n",
    "    this_component = gt.topology.label_largest_component(gt.GraphView(full_graph, vfilt=graph_remaining), directed=False)\n",
    "    component_graphs.append(gt.GraphView(full_graph, vfilt=this_component))\n",
    "    graph_remaining = full_graph.new_vertex_property('bool', vals=graph_remaining.a - this_component.a)\n",
    "    last_graph_size = this_component.a.sum()\n",
    "\n",
    "len(component_graphs)"
   ]
  },
  {
   "cell_type": "code",
   "execution_count": null,
   "metadata": {},
   "outputs": [],
   "source": [
    "# The largest components has a huge fraction of the unitigs\n",
    "component_graphs[0], component_graphs[1], component_graphs[2], component_graphs[3], component_graphs[4], component_graphs[5], component_graphs[6]"
   ]
  },
  {
   "cell_type": "code",
   "execution_count": null,
   "metadata": {},
   "outputs": [],
   "source": [
    "c = 5\n",
    "\n",
    "draw_graphs = True\n",
    "\n",
    "# component = c\n",
    "component = 18  # Only the label for plotting\n",
    "\n",
    "curr_graph = gt.Graph(component_graphs[c], prune=True)\n",
    "curr_graph.set_vertex_filter(curr_graph.vp['filter'])\n",
    "\n",
    "np.random.seed(1)\n",
    "gt.seed_rng(1)"
   ]
  },
  {
   "cell_type": "code",
   "execution_count": null,
   "metadata": {},
   "outputs": [],
   "source": [
    "if draw_graphs:\n",
    "    total_bases = curr_graph.new_vertex_property('float', vals=curr_graph.vp.length.fa * curr_graph.vp.depth.get_2d_array(pos=range(curr_graph.gp['num_samples'])).sum(0))\n",
    "    sz.draw.update_xypositions(curr_graph, vweight=total_bases)\n",
    "    gm = sz.graph_manager.GraphManager(\n",
    "        unzippers=[\n",
    "            sz.graph_manager.LengthUnzipper(),\n",
    "            sz.graph_manager.SequenceUnzipper(),\n",
    "            sz.graph_manager.VectorDepthUnzipper(),\n",
    "            sz.graph_manager.PositionUnzipper(offset=(0.1, 0.1)),\n",
    "        ],\n",
    "        pressers=[\n",
    "            sz.graph_manager.LengthPresser(),\n",
    "            sz.graph_manager.SequencePresser(sep=\",\"),\n",
    "            sz.graph_manager.VectorDepthPresser(),\n",
    "            sz.graph_manager.PositionPresser(),\n",
    "        ],\n",
    "    )\n",
    "else:\n",
    "    gm = sz.graph_manager.GraphManager(\n",
    "        unzippers=[\n",
    "            sz.graph_manager.LengthUnzipper(),\n",
    "            sz.graph_manager.SequenceUnzipper(),\n",
    "            sz.graph_manager.VectorDepthUnzipper(),\n",
    "        ],\n",
    "        pressers=[\n",
    "            sz.graph_manager.LengthPresser(),\n",
    "            sz.graph_manager.SequencePresser(sep=\",\"),\n",
    "            sz.graph_manager.VectorDepthPresser(),\n",
    "        ],\n",
    "    )\n",
    "gm.validate(curr_graph)"
   ]
  },
  {
   "cell_type": "code",
   "execution_count": null,
   "metadata": {},
   "outputs": [],
   "source": [
    "original_graph = curr_graph.copy()  # Save for later plotting\n",
    "sz.stats.degree_stats(curr_graph)"
   ]
  },
  {
   "cell_type": "code",
   "execution_count": null,
   "metadata": {},
   "outputs": [],
   "source": [
    "assembly_stage = 1\n",
    "\n",
    "# Calculate Flows\n",
    "flow = []\n",
    "for sample_id in range(curr_graph.gp['num_samples']):\n",
    "    one_flow, _, _, = sz.flow.estimate_flow(curr_graph, gt.ungroup_vector_property(curr_graph.vp['depth'], pos=[sample_id])[0], curr_graph.vp['length'])\n",
    "    flow.append(one_flow)\n",
    "flow = gt.group_vector_property(flow, pos=range(curr_graph.gp['num_samples']))\n",
    "\n",
    "# Initial depths\n",
    "plt.hist2d(\n",
    "    curr_graph.vp['length'].fa,\n",
    "    curr_graph.vp['depth'].get_2d_array(range(curr_graph.gp['num_samples'])).sum(0),\n",
    "    bins=(length_bins, depth_bins),\n",
    "    norm=mpl.colors.LogNorm(vmin=1, vmax=1e3),\n",
    ")\n",
    "plt.colorbar()\n",
    "plt.xscale('log')\n",
    "plt.yscale('log')\n",
    "plt.savefig(f'nb/fig/component-{component}/hist_stage{assembly_stage}.pdf')\n",
    "\n",
    "if draw_graphs:\n",
    "    _color = curr_graph.new_vertex_property('float', vals=curr_graph.vp['depth'].get_2d_array(range(curr_graph.gp['num_samples'])).sum(0) ** (1/2))\n",
    "    sz.draw.draw_graph(\n",
    "        curr_graph,\n",
    "        vertex_text=curr_graph.vp['length'],\n",
    "        vertex_fill_color=_color,\n",
    "        output=f'nb/fig/component-{component}/graph_stage{assembly_stage}.pdf',\n",
    "        vcmap=(mpl.cm.magma),\n",
    "    )"
   ]
  },
  {
   "cell_type": "code",
   "execution_count": null,
   "metadata": {},
   "outputs": [],
   "source": [
    "# TODO: Consider dropping low depth vertices/edges\n",
    "# depth_thresh = 0.1\n",
    "# # Drop edges with low depth\n",
    "# low_depth_edge = curr_graph.new_edge_property('float', vals=flow.get_2d_array(pos=range(curr_graph.gp['num_samples'])).sum(0) < depth_thresh)\n",
    "# low_depth_edges = find_edge(curr_graph, low_depth_edge, True)\n",
    "# for e in low_depth_edges:\n",
    "#     curr_graph.remove_edge(e)\n",
    "# low_depth_vertices = idxwhere(sz.results.extract_vertex_data(curr_graph, seqs).total_depth < depth_thresh)\n",
    "# print(len(tips), len(low_depth_vertices), len(set(tips) & set(low_depth_vertices)))"
   ]
  },
  {
   "cell_type": "code",
   "execution_count": null,
   "metadata": {},
   "outputs": [],
   "source": [
    "# Trim tips\n",
    "tips = sz.assembly.find_tips(curr_graph, also_required=curr_graph.vp['length'].a < curr_graph.gp['kmer_length'])\n",
    "print(len(tips))\n",
    "gm.batch_trim(curr_graph, tips)\n",
    "\n",
    "original_graph_no_tips = curr_graph.copy()  # Save for later plotting\n",
    "\n",
    "new_tigs = gm.batch_press(curr_graph, *[(path, {}) for path in sz.assembly.iter_maximal_unitig_paths(curr_graph)])\n",
    "print(len(new_tigs))"
   ]
  },
  {
   "cell_type": "code",
   "execution_count": null,
   "metadata": {},
   "outputs": [],
   "source": [
    "# Second round of tip trimming\n",
    "second_round_tips = sz.assembly.find_tips(curr_graph, also_required=curr_graph.vp['length'].a < curr_graph.gp['kmer_length'])\n",
    "print(len(second_round_tips))\n",
    "gm.batch_trim(curr_graph, second_round_tips)\n",
    "second_round_new_tigs = gm.batch_press(curr_graph, *[(path, {}) for path in sz.assembly.iter_maximal_unitig_paths(curr_graph)])\n",
    "print(len(second_round_new_tigs))"
   ]
  },
  {
   "cell_type": "code",
   "execution_count": null,
   "metadata": {},
   "outputs": [],
   "source": [
    "assembly_stage = 2\n",
    "\n",
    "flow = sz.flow.estimate_all_flows(curr_graph)\n",
    "\n",
    "# Initial depths\n",
    "plt.hist2d(\n",
    "    curr_graph.vp['length'].fa,\n",
    "    curr_graph.vp['depth'].get_2d_array(range(curr_graph.gp['num_samples'])).sum(0),\n",
    "    bins=(length_bins, depth_bins),\n",
    "    norm=mpl.colors.LogNorm(vmin=1, vmax=1e3),\n",
    ")\n",
    "plt.colorbar()\n",
    "plt.xscale('log')\n",
    "plt.yscale('log')\n",
    "plt.savefig(f'nb/fig/component-{component}/hist_stage{assembly_stage}.pdf')\n",
    "\n",
    "if draw_graphs:\n",
    "    _color = curr_graph.new_vertex_property('float', vals=curr_graph.vp['depth'].get_2d_array(range(curr_graph.gp['num_samples'])).sum(0) ** (1/2))\n",
    "    sz.draw.draw_graph(\n",
    "        curr_graph,\n",
    "        vertex_text=curr_graph.vp['length'],\n",
    "        vertex_fill_color=_color,\n",
    "        output=f'nb/fig/component-{component}/graph_stage{assembly_stage}.pdf',\n",
    "        vcmap=(mpl.cm.magma),\n",
    "    )"
   ]
  },
  {
   "cell_type": "code",
   "execution_count": null,
   "metadata": {},
   "outputs": [],
   "source": [
    "assembly_iters = 3\n",
    "\n",
    "for i in range(assembly_iters):\n",
    "    print(f\"Deconvolution round {i}.\")\n",
    "    flow = sz.flow.estimate_all_flows(curr_graph)\n",
    "    deconvolutions = sz.assembly.parallel_calculate_all_junction_deconvolutions(\n",
    "        curr_graph,\n",
    "        flow,\n",
    "        forward_stop=0.0,\n",
    "        backward_stop=0.0,\n",
    "        alpha=1.0,\n",
    "        score_margin_thresh=20.,\n",
    "        condition_thresh=1e5,\n",
    "        max_paths=20,\n",
    "        processes=2,\n",
    "    )\n",
    "    new_unzipped_vertices = gm.batch_unzip(curr_graph, *deconvolutions)    \n",
    "    new_pressed_vertices = gm.batch_press(curr_graph, *[(path, {}) for path in sz.assembly.iter_maximal_unitig_paths(curr_graph)])\n",
    "    print(f\"Unzipped: {len(new_unzipped_vertices)} resulting in joining old tigs into {len(new_pressed_vertices)} new tigs out of {curr_graph.num_vertices()}.\")\n",
    "    if len(new_unzipped_vertices) == 0:\n",
    "        print(\"No vertices unzipped. Stopping early.\")\n",
    "        break"
   ]
  },
  {
   "cell_type": "code",
   "execution_count": null,
   "metadata": {},
   "outputs": [],
   "source": [
    "assembly_stage = 3\n",
    "\n",
    "flow = sz.flow.estimate_all_flows(curr_graph)\n",
    "\n",
    "# Initial depths\n",
    "plt.hist2d(\n",
    "    curr_graph.vp['length'].fa,\n",
    "    curr_graph.vp['depth'].get_2d_array(range(curr_graph.gp['num_samples'])).sum(0),\n",
    "    bins=(length_bins, depth_bins),\n",
    "    norm=mpl.colors.LogNorm(vmin=1, vmax=1e3),\n",
    ")\n",
    "plt.colorbar()\n",
    "plt.xscale('log')\n",
    "plt.yscale('log')\n",
    "plt.savefig(f'nb/fig/component-{component}/hist_stage{assembly_stage}.pdf')\n",
    "\n",
    "if draw_graphs:\n",
    "    _color = curr_graph.new_vertex_property('float', vals=curr_graph.vp['depth'].get_2d_array(range(curr_graph.gp['num_samples'])).sum(0) ** (1/2))\n",
    "    sz.draw.draw_graph(\n",
    "        curr_graph,\n",
    "        vertex_text=curr_graph.vp['length'],\n",
    "        vertex_fill_color=_color,\n",
    "        output=f'nb/fig/component-{component}/graph_stage{assembly_stage}.pdf',\n",
    "        vcmap=(mpl.cm.magma),\n",
    "    )"
   ]
  },
  {
   "cell_type": "code",
   "execution_count": null,
   "metadata": {},
   "outputs": [],
   "source": [
    "assembly_iters = 3\n",
    "\n",
    "for i in range(assembly_iters):\n",
    "    print(f\"Deconvolution round {i}.\")\n",
    "    flow = sz.flow.estimate_all_flows(curr_graph)\n",
    "    deconvolutions = sz.assembly.parallel_calculate_all_junction_deconvolutions(\n",
    "        curr_graph,\n",
    "        flow,\n",
    "        forward_stop=0.0,\n",
    "        backward_stop=0.0,\n",
    "        alpha=1.0,\n",
    "        score_margin_thresh=20.,\n",
    "        condition_thresh=1e5,\n",
    "        max_paths=20,\n",
    "        processes=2,\n",
    "    )\n",
    "    new_unzipped_vertices = gm.batch_unzip(curr_graph, *deconvolutions)    \n",
    "    new_pressed_vertices = gm.batch_press(curr_graph, *[(path, {}) for path in sz.assembly.iter_maximal_unitig_paths(curr_graph)])\n",
    "    print(f\"Unzipped: {len(new_unzipped_vertices)} resulting in joining old tigs into {len(new_pressed_vertices)} new tigs out of {curr_graph.num_vertices()}.\")\n",
    "    if len(new_unzipped_vertices) == 0:\n",
    "        print(\"No vertices unzipped. Stopping early.\")\n",
    "        break"
   ]
  },
  {
   "cell_type": "code",
   "execution_count": null,
   "metadata": {},
   "outputs": [],
   "source": [
    "assembly_stage = 4\n",
    "\n",
    "# Calculate Flows\n",
    "flow = []\n",
    "for sample_id in range(curr_graph.gp['num_samples']):\n",
    "    one_flow, _, _, = sz.flow.estimate_flow(curr_graph, gt.ungroup_vector_property(curr_graph.vp['depth'], pos=[sample_id])[0], curr_graph.vp['length'])\n",
    "    flow.append(one_flow)\n",
    "flow = gt.group_vector_property(flow, pos=range(curr_graph.gp['num_samples']))\n",
    "\n",
    "# Initial depths\n",
    "plt.hist2d(\n",
    "    curr_graph.vp['length'].fa,\n",
    "    curr_graph.vp['depth'].get_2d_array(range(curr_graph.gp['num_samples'])).sum(0),\n",
    "    bins=(length_bins, depth_bins),\n",
    "    norm=mpl.colors.LogNorm(vmin=1, vmax=1e3),\n",
    ")\n",
    "plt.colorbar()\n",
    "plt.xscale('log')\n",
    "plt.yscale('log')\n",
    "plt.savefig(f'nb/fig/component-{component}/hist_stage{assembly_stage}.pdf')\n",
    "\n",
    "if draw_graphs:\n",
    "    _color = curr_graph.new_vertex_property('float', vals=curr_graph.vp['depth'].get_2d_array(range(curr_graph.gp['num_samples'])).sum(0) ** (1/2))\n",
    "    sz.draw.draw_graph(\n",
    "        curr_graph,\n",
    "        vertex_text=curr_graph.vp['length'],\n",
    "        vertex_fill_color=_color,\n",
    "        output=f'nb/fig/component-{component}/graph_stage{assembly_stage}.pdf',\n",
    "        vcmap=(mpl.cm.magma),\n",
    "    )"
   ]
  },
  {
   "cell_type": "code",
   "execution_count": null,
   "metadata": {},
   "outputs": [],
   "source": [
    "# WORKHERE"
   ]
  },
  {
   "cell_type": "code",
   "execution_count": null,
   "metadata": {},
   "outputs": [],
   "source": [
    "vertex_results0 = sz.results.extract_vertex_data(curr_graph).assign(assembly=lambda d: d.segments.apply(sz.results.assemble_overlapping_unitigs, unitig_to_sequence=unitig_to_sequence, k=curr_graph.gp['kmer_length']))\n",
    "vertex_results0.sort_values('num_segments', ascending=False).head(10)"
   ]
  },
  {
   "cell_type": "code",
   "execution_count": null,
   "metadata": {},
   "outputs": [],
   "source": [
    "# Any big cycles\n",
    "vertex_results0[vertex_results0.apply(lambda d: (d.name in d.in_neighbors) | (d.name in d.out_neighbors), axis=1)].sort_values('num_segments', ascending=False).head(5)"
   ]
  },
  {
   "cell_type": "code",
   "execution_count": null,
   "metadata": {},
   "outputs": [],
   "source": [
    "# Low depth\n",
    "vertex_results0[lambda x: (x.total_depth < 30) & (x.total_depth > 10)].sort_values('length', ascending=False).head(10)"
   ]
  },
  {
   "cell_type": "code",
   "execution_count": null,
   "metadata": {},
   "outputs": [],
   "source": [
    "assembly_stage = '_final'\n",
    "v = 1341\n",
    "\n",
    "print(v)\n",
    "print(curr_graph.vp.length[v])\n",
    "print(curr_graph.vp.depth[v])\n",
    "print(curr_graph.vp.sequence[v])\n",
    "print()\n",
    "\n",
    "# fig = plt.figure(figsize=(5, 3))\n",
    "# sns.heatmap(depth_table.sel(unitig=[int(s[:-1]) for s in curr_graph.vp.sequence[v].split(',')]).to_pandas().T, norm=mpl.colors.SymLogNorm(1e-1))\n",
    "\n",
    "# Flag nodes in sequence v\n",
    "in_seq = original_graph_no_tips.new_vertex_property('bool', val=False)\n",
    "gt.map_property_values(original_graph_no_tips.vp.sequence, in_seq, lambda x: x in curr_graph.vp.sequence[v].split(','))\n",
    "\n",
    "one_depth = original_graph_no_tips.new_vertex_property('float', original_graph_no_tips.vp['depth'].get_2d_array(pos=range(original_graph_no_tips.gp['num_samples'])).mean(0))\n",
    "one_flow, _, _, = sz.flow.estimate_flow(original_graph_no_tips, one_depth, original_graph_no_tips.vp['length'])\n",
    "_color = original_graph_no_tips.new_vertex_property('float', vals=np.sqrt(one_depth.a))\n",
    "\n",
    "if draw_graphs:\n",
    "    outpath = f'nb/fig/component-{component}/graph_stage{assembly_stage}_seq{v}_id.pdf'\n",
    "    print(outpath)\n",
    "    sz.draw.draw_graph(\n",
    "        original_graph_no_tips,\n",
    "        vertex_text=original_graph_no_tips.vp['sequence'],\n",
    "        vertex_halo=in_seq,\n",
    "        # vertex_text=in_seq,\n",
    "        vertex_font_size=1,\n",
    "        vertex_fill_color=_color,\n",
    "        edge_pen_width=original_graph_no_tips.new_edge_property('float', vals=one_flow.a ** (1/5)),\n",
    "        output=outpath,\n",
    "        vcmap=(mpl.cm.magma, 1),\n",
    "    )"
   ]
  },
  {
   "cell_type": "code",
   "execution_count": null,
   "metadata": {},
   "outputs": [],
   "source": [
    "vertex_results0.segments.explode().value_counts().reset_index().sort_values(['count', 'segments'], ascending=(False, True)).head(10)"
   ]
  },
  {
   "cell_type": "code",
   "execution_count": null,
   "metadata": {},
   "outputs": [],
   "source": [
    "assert False"
   ]
  },
  {
   "cell_type": "code",
   "execution_count": null,
   "metadata": {},
   "outputs": [],
   "source": [
    "u = \"1471216-\"  # Focal segment/unitig\n",
    "# Get list of sequences with segment u\n",
    "vertex_list = idxwhere(vertex_results0.segments.apply(lambda x: u in x))\n",
    "unitigs = [int(s[:-1]) for s in chain(*vertex_results0.loc[vertex_list].segments)]\n",
    "\n",
    "# d1 = depth_table.sel(unitig=unitigs).to_pandas().T\n",
    "# fig = plt.figure()\n",
    "# sns.clustermap(d1, norm=mpl.colors.SymLogNorm(1e-1), col_cluster=False, metric='cosine')\n",
    "\n",
    "# d2 = pd.DataFrame(np.stack([graph2.vp['depth'][i] for i in vertex_list]), index=vertex_list).T\n",
    "# fig = plt.figure()\n",
    "# sns.clustermap(d2, norm=mpl.colors.SymLogNorm(1e-1), col_cluster=False, metric='cosine')\n",
    "\n",
    "\n",
    "path = f'nb/fig/component-{component}/seqs_stage_final_node{u}.fn'\n",
    "with open(path, 'w') as f:\n",
    "    for vertex, d1 in vertex_results0.loc[vertex_list].iterrows():\n",
    "        print(f\">{vertex}\\n{d1.assembly}\", file=f)\n",
    "print(path)\n",
    "\n",
    "vertex_results0.loc[vertex_list]"
   ]
  },
  {
   "cell_type": "code",
   "execution_count": null,
   "metadata": {},
   "outputs": [],
   "source": [
    "for x, y in zip(vertex_results0.loc[vertex_list[0]].segments, vertex_results0.loc[vertex_list[1]].segments):\n",
    "    print(x, y)"
   ]
  },
  {
   "cell_type": "raw",
   "metadata": {},
   "source": [
    "assembly_stage = '_final'\n",
    "\n",
    "# Flag assembled sequences with component u\n",
    "u = \"1744504+\"\n",
    "has_specific_component = graph2.new_vertex_property('bool')\n",
    "gt.map_property_values(graph2.vp.sequence, has_specific_component, lambda x: u in [v for v in x.split(',')])\n",
    "\n",
    "one_depth = graph2.new_vertex_property('float', graph2.vp['depth'].get_2d_array(pos=range(graph2.gp['num_samples'])).sum(0))\n",
    "one_flow, _, _, = sz.flow.estimate_flow(graph2, one_depth, graph2.vp['length'])\n",
    "_color = graph2.new_vertex_property('float', vals=np.sqrt(one_depth.a))\n",
    "\n",
    "if draw_graphs:\n",
    "    outpath = f'nb/fig/component-{component}/graph_stage{assembly_stage}_node{u}.pdf'\n",
    "    print(outpath)\n",
    "    sz.draw.draw_graph(\n",
    "        graph2,\n",
    "        vertex_text=graph2.vp['length'],\n",
    "        vertex_halo=has_specific_component,\n",
    "        # vertex_text=in_seq,\n",
    "        vertex_fill_color=_color,\n",
    "        edge_pen_width=graph2.new_edge_property('float', vals=one_flow.a ** (1/5)),\n",
    "        output=outpath,\n",
    "        vcmap=(mpl.cm.magma, 1),\n",
    "    )\n",
    "\n",
    "print(np.where(has_specific_component.a)[0])"
   ]
  },
  {
   "cell_type": "raw",
   "metadata": {},
   "source": [
    "path = f'nb/fig/component-{component}/seqs_stage{assembly_stage}_node{u}.fn'\n",
    "print(path)\n",
    "\n",
    "seen_segment_string = set()\n",
    "\n",
    "with open(path, 'w') as f:\n",
    "    for seq in np.where(has_specific_component.a)[0]:\n",
    "        accum = \"\"\n",
    "        segment_str = graph2.vp.sequence[seq]\n",
    "        for segment in segment_str.split(','):\n",
    "            # print(segment)\n",
    "            seqidx, strand = segment[:-1], segment[-1:]\n",
    "            forward_segment = seqs[seqidx]\n",
    "            # print(len(forward_segment))\n",
    "            if strand == '+':\n",
    "                accum = accum[:-(k - 1)] + forward_segment\n",
    "            else:\n",
    "                accum = accum[:-(k - 1)] + sz.sequence.reverse_complement(forward_segment)\n",
    "\n",
    "        in_neighbors = graph2.get_in_neighbors(seq)\n",
    "        out_neighbors = graph2.get_out_neighbors(seq)\n",
    "        print(seq, segment_str, len(accum), f\"{in_neighbors} X {out_neighbors}\", sep='\\t')\n",
    "        if segment_str in seen_segment_string:\n",
    "            continue\n",
    "        else:\n",
    "            print(f\">{seq}\\n{accum}\", file=f)\n",
    "            seen_segment_string |= {segment_str}"
   ]
  },
  {
   "cell_type": "raw",
   "metadata": {},
   "source": [
    "d = pd.DataFrame(graph2.vp.depth.get_2d_array(pos=range(graph2.gp['num_samples']))[:,np.where(has_specific_component.fa)[0]], columns=np.where(has_specific_component.a)[0])\n",
    "fig = plt.figure(figsize=(10, 10))\n",
    "sns.heatmap(d, norm=mpl.colors.SymLogNorm(1e-2), xticklabels=1)"
   ]
  }
 ],
 "metadata": {
  "kernelspec": {
   "display_name": "strainzip",
   "language": "python",
   "name": "strainzip"
  },
  "language_info": {
   "codemirror_mode": {
    "name": "ipython",
    "version": 3
   },
   "file_extension": ".py",
   "mimetype": "text/x-python",
   "name": "python",
   "nbconvert_exporter": "python",
   "pygments_lexer": "ipython3",
   "version": "3.12.2"
  }
 },
 "nbformat": 4,
 "nbformat_minor": 5
}