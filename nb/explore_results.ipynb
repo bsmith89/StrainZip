{
 "cells": [
  {
   "cell_type": "code",
   "execution_count": null,
   "metadata": {},
   "outputs": [],
   "source": [
    "!date"
   ]
  },
  {
   "cell_type": "code",
   "execution_count": null,
   "metadata": {},
   "outputs": [],
   "source": [
    "%load_ext autoreload\n",
    "%load_ext line_profiler"
   ]
  },
  {
   "cell_type": "code",
   "execution_count": null,
   "metadata": {},
   "outputs": [],
   "source": [
    "import os as _os\n",
    "_os.chdir(_os.environ['PROJECT_ROOT'])"
   ]
  },
  {
   "cell_type": "code",
   "execution_count": null,
   "metadata": {},
   "outputs": [],
   "source": [
    "import strainzip as sz\n",
    "import graph_tool as gt\n",
    "import graph_tool.draw\n",
    "import numpy as np\n",
    "import matplotlib.pyplot as plt\n",
    "import matplotlib as mpl\n",
    "import seaborn as sns\n",
    "import pandas as pd\n",
    "from contextlib import contextmanager\n",
    "import xarray as xr\n",
    "from itertools import product\n",
    "from tqdm import tqdm\n",
    "from itertools import chain\n",
    "from strainzip.pandas_util import idxwhere\n",
    "from graph_tool.util import find_edge\n",
    "import scipy as sp"
   ]
  },
  {
   "cell_type": "code",
   "execution_count": null,
   "metadata": {},
   "outputs": [],
   "source": [
    "# Plotting parameters\n",
    "\n",
    "length_bins = np.logspace(0, 6.5, num=51)\n",
    "depth_bins = np.logspace(-1, 4, num=51)\n",
    "\n",
    "draw_graphs = True\n",
    "run_number = 20  # Label for output files/figures"
   ]
  },
  {
   "cell_type": "code",
   "execution_count": null,
   "metadata": {},
   "outputs": [],
   "source": [
    "with open(f'examples/xjin_test5/r.proc.kmtricks-k111-m3-r2.ggcat.fn') as f:\n",
    "    _, unitig_to_sequence = sz.io.load_graph_and_sequences_from_linked_fasta(f, 111, sz.io.ggcat_header_tokenizer)"
   ]
  },
  {
   "cell_type": "code",
   "execution_count": null,
   "metadata": {},
   "outputs": [],
   "source": [
    "final_graph = sz.io.load_graph(f'examples/xjin_test5/r.proc.kmtricks-k111-m3-r2.ggcat.notips.deconvolve.sz')"
   ]
  },
  {
   "cell_type": "code",
   "execution_count": null,
   "metadata": {},
   "outputs": [],
   "source": [
    "final_results = sz.results.extract_vertex_data(final_graph).assign(assembly=lambda d: d.segments.apply(sz.results.assemble_overlapping_unitigs, unitig_to_sequence=unitig_to_sequence, k=final_graph.gp['kmer_length']))\n",
    "final_results.sort_values(['length'], ascending=False).head(5)"
   ]
  },
  {
   "cell_type": "code",
   "execution_count": null,
   "metadata": {},
   "outputs": [],
   "source": [
    "original_graph = sz.io.load_graph('examples/xjin_test5/r.proc.kmtricks-k111-m3-r2.ggcat.gt')"
   ]
  },
  {
   "cell_type": "code",
   "execution_count": null,
   "metadata": {},
   "outputs": [],
   "source": [
    "original_results = sz.results.extract_vertex_data(original_graph)\n",
    "original_results.sort_values(['length'], ascending=False).head(5)"
   ]
  },
  {
   "cell_type": "code",
   "execution_count": null,
   "metadata": {},
   "outputs": [],
   "source": [
    "unitig_depth_table = sz.results.full_depth_table(original_graph).rename(original_results.segments.str[0])\n",
    "unitig_depth_table.shape"
   ]
  },
  {
   "cell_type": "code",
   "execution_count": null,
   "metadata": {},
   "outputs": [],
   "source": [
    "focal_path = 128053\n",
    "\n",
    "related_paths = list(sz.results.iter_find_vertices_with_any_segment(final_graph, final_results.loc[focal_path].segments))\n",
    "focal_segments = list(set(chain(*final_results.loc[related_paths].segments)))\n",
    "\n",
    "original_graph_core_vertices = list(sz.results.iter_find_vertices_with_any_segment(original_graph, focal_segments))\n",
    "original_graph_distance_to_core = sz.topology.get_shortest_distance(original_graph, original_graph_core_vertices, original_graph.vp['length'])\n",
    "in_neighborhood = original_graph.new_vertex_property('bool', vals=original_graph_distance_to_core.a < 1000)\n",
    "\n",
    "neighborhood_graph = gt.GraphView(original_graph, vfilt=in_neighborhood)\n",
    "sz.draw.update_xypositions(neighborhood_graph)\n",
    "\n",
    "vertex_color = neighborhood_graph.new_vertex_property('float', vals=sz.results.total_depth_property(neighborhood_graph).a**(1/2))\n",
    "\n",
    "outpath = f'nb/fig/run-{run_number}/final_paths.neighborhood-{focal_path}.fn'\n",
    "with open(outpath, 'w') as f:\n",
    "    for path, d1 in final_results.loc[related_paths].iterrows():\n",
    "        print(f\">{path}\\n{d1.assembly}\", file=f)\n",
    "print(outpath)\n",
    "\n",
    "for path in related_paths:\n",
    "    original_graph_vertices = list(sz.results.iter_find_vertices_with_any_segment(original_graph, final_results.loc[path].segments))\n",
    "    print(len(original_graph_vertices))\n",
    "    in_path = original_graph.new_vertex_property('bool', val=False)\n",
    "    in_path.a[original_graph_vertices] = 1\n",
    "    outpath = f'nb/fig/run-{run_number}/final_paths.neighborhood-{focal_path}-{path}.pdf'\n",
    "    sz.draw.draw_graph(\n",
    "        neighborhood_graph,\n",
    "        vertex_text=neighborhood_graph.vp['sequence'],\n",
    "        vertex_halo=in_path,\n",
    "        vertex_font_size=5,\n",
    "        vertex_fill_color=vertex_color,\n",
    "        output=outpath,\n",
    "        vcmap=(mpl.cm.magma, 1),\n",
    "        output_size=(1000, 1000),\n",
    "    )\n",
    "    print(outpath)\n",
    "\n",
    "final_results.loc[related_paths]"
   ]
  },
  {
   "cell_type": "code",
   "execution_count": null,
   "metadata": {},
   "outputs": [],
   "source": [
    "unitig_depth = unitig_depth_table.loc[focal_segments].T\n",
    "path_membership = final_results.loc[related_paths].segments.explode().reset_index().value_counts().unstack(fill_value=0)\n",
    "path_depth = pd.DataFrame({p: final_graph.vp['depth'][p] for p in related_paths})\n",
    "\n",
    "predicted_unitig_depth = path_depth @ path_membership\n",
    "\n",
    "obs = unitig_depth\n",
    "expect = predicted_unitig_depth.loc[obs.index, obs.columns]\n",
    "membership = path_membership.loc[:,obs.columns]\n",
    "resid = obs - expect\n",
    "\n",
    "unitig_linkage = sp.cluster.hierarchy.linkage(membership.T, metric='cosine', method='average')\n",
    "path_linkage = sp.cluster.hierarchy.linkage(membership, metric='cosine', method='average')\n",
    "sample_linkage = sp.cluster.hierarchy.linkage(unitig_depth, metric='cosine', method='average')\n",
    "\n",
    "max_obs = obs.max().max()\n",
    "max_resid = resid.max().max()\n",
    "\n",
    "sns.clustermap(path_membership, row_linkage=path_linkage, col_linkage=unitig_linkage, figsize=(10, 5))\n",
    "sns.clustermap(obs, row_linkage=sample_linkage, col_linkage=unitig_linkage, figsize=(10, 5), norm=mpl.colors.SymLogNorm(1, vmin=0, vmax=max_obs))\n",
    "sns.clustermap(expect, row_linkage=sample_linkage, col_linkage=unitig_linkage, figsize=(10, 5), norm=mpl.colors.SymLogNorm(1, vmin=0, vmax=max_obs))\n",
    "sns.clustermap(resid, row_linkage=sample_linkage, col_linkage=unitig_linkage, figsize=(10, 5), norm=mpl.colors.SymLogNorm(1, vmin=-max_resid, vmax=max_resid), cmap='coolwarm')\n",
    "sns.clustermap(path_depth, row_linkage=sample_linkage, figsize=(3, 3), norm=mpl.colors.PowerNorm(1/2, vmin=0, vmax=max_obs))"
   ]
  }
 ],
 "metadata": {
  "kernelspec": {
   "display_name": "strainzip",
   "language": "python",
   "name": "strainzip"
  },
  "language_info": {
   "codemirror_mode": {
    "name": "ipython",
    "version": 3
   },
   "file_extension": ".py",
   "mimetype": "text/x-python",
   "name": "python",
   "nbconvert_exporter": "python",
   "pygments_lexer": "ipython3",
   "version": "3.12.2"
  }
 },
 "nbformat": 4,
 "nbformat_minor": 5
}