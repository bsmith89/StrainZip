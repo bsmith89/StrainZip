{
 "cells": [
  {
   "cell_type": "code",
   "execution_count": null,
   "metadata": {},
   "outputs": [],
   "source": [
    "import numpy as np\n",
    "import statsmodels.api as sm\n",
    "from statsmodels.genmod.families.links import Link\n",
    "\n",
    "class Log1pLink(Link):\n",
    "    \"\"\"\n",
    "    Custom link function for log(1 + p).\n",
    "    \"\"\"    \n",
    "    def __init__(self):\n",
    "        super(Log1pLink, self).__init__()\n",
    "    \n",
    "    def __call__(self, p):\n",
    "        # The link function itself\n",
    "        return np.log(1 + p)\n",
    "\n",
    "    def inverse(self, z):\n",
    "        # The inverse of the link function\n",
    "        return np.exp(z) - 1\n",
    "\n",
    "    def deriv(self, p):\n",
    "        # Derivative of the link function\n",
    "        return 1 / (1 + p)\n",
    "\n",
    "    def inverse_deriv(self, z):\n",
    "        # Derivative of the inverse of the link function\n",
    "        return np.exp(z)\n",
    "\n",
    "    linkclass = property(lambda self: type(self).__name__)\n",
    "\n",
    "\n",
    "class Gaussian2(sm.families.Gaussian):\n",
    "    links = [Log1pLink]\n",
    "    safe_links = links\n",
    "\n",
    "LOG1PLINK = Log1pLink()"
   ]
  },
  {
   "cell_type": "code",
   "execution_count": null,
   "metadata": {},
   "outputs": [],
   "source": [
    "print(repr(beta))"
   ]
  },
  {
   "cell_type": "code",
   "execution_count": null,
   "metadata": {},
   "outputs": [],
   "source": [
    "print(repr(np.array([\n",
    "    [1, 0, 1, 0, 0],\n",
    "    [1, 0, 0, 1, 0],\n",
    "    [1, 0, 0, 0, 1],\n",
    "    [0, 1, 1, 0, 0],\n",
    "    [0, 1, 0, 1, 0],\n",
    "    [0, 1, 0, 0, 1],\n",
    "]).T))"
   ]
  },
  {
   "cell_type": "code",
   "execution_count": null,
   "metadata": {},
   "outputs": [],
   "source": [
    "beta.T"
   ]
  },
  {
   "cell_type": "code",
   "execution_count": null,
   "metadata": {},
   "outputs": [],
   "source": [
    "X = np.array([\n",
    "    [1, 1, 1, 0, 0, 0],\n",
    "    [0, 0, 0, 1, 1, 1],\n",
    "    [1, 0, 0, 1, 0, 0],\n",
    "    [0, 1, 0, 0, 1, 0],\n",
    "    [0, 0, 1, 0, 0, 1],\n",
    "])\n",
    "\n",
    "# Latent path depths\n",
    "beta = np.array([\n",
    "    [1. , 1. , 0. ],\n",
    "    [0.5, 1. , 0. ],\n",
    "    [0. , 0. , 0. ],\n",
    "    [0. , 0. , 0. ],\n",
    "    [0.5, 0. , 0. ],\n",
    "    [0. , 0. , 1. ],\n",
    "])\n",
    "\n",
    "n, m = 2, 3\n",
    "\n",
    "\n",
    "s_samples = beta.shape[1]\n",
    "p_paths = X.shape[1]\n",
    "r_edges = X.shape[0]\n",
    "\n",
    "assert X.shape == (n+m, n*m)\n",
    "assert beta.shape == (p_paths, s_samples)\n",
    "\n",
    "y = LOG1PLINK.inverse(LOG1PLINK(X @ beta) + np.random.normal(0, 1))\n",
    "y_stacked = y.reshape((r_edges * s_samples, 1))\n",
    "\n",
    "y_stacked.shape\n",
    "X_stacked = np.block([[X] * s_samples] * s_samples)\n",
    "\n",
    "assert X_stacked.shape[0] == y_stacked.shape[0]\n",
    "\n",
    "# beta_stacked = beta.reshape((p_paths * s_samples, 1))\n",
    "\n",
    "# print(X_stacked.shape)\n",
    "# print(beta_stacked.shape)\n",
    "# print(y_stacked.shape)"
   ]
  },
  {
   "cell_type": "code",
   "execution_count": null,
   "metadata": {},
   "outputs": [],
   "source": [
    "model = sm.GLM(LOG1PLINK(y_stacked), X_stacked, family=Gaussian2(link=LOG1PLINK))\n",
    "results = model.fit()\n",
    "\n",
    "print(results.summary())"
   ]
  },
  {
   "cell_type": "code",
   "execution_count": null,
   "metadata": {},
   "outputs": [],
   "source": [
    "active_paths = [0, 1, 2, 4, 5]\n",
    "reduced_X = X[:, active_paths]\n",
    "reduced_X_stacked = np.block([[reduced_X] * s_samples] * s_samples)\n",
    "\n",
    "model = sm.GLM(LOG1PLINK(y_stacked), reduced_X_stacked, family=Gaussian2(link=Log1pLink()))\n",
    "results = model.fit()\n",
    "\n",
    "print(results.summary())"
   ]
  },
  {
   "cell_type": "code",
   "execution_count": null,
   "metadata": {},
   "outputs": [],
   "source": [
    "active_paths = [1, 2, 4, 5]\n",
    "reduced_X = X[:, active_paths]\n",
    "reduced_X_stacked = np.block([[reduced_X] * s_samples] * s_samples)\n",
    "\n",
    "model = sm.GLM(LOG1PLINK(y_stacked), reduced_X_stacked, family=Gaussian2(link=Log1pLink()))\n",
    "results = model.fit()\n",
    "\n",
    "print(results.summary())"
   ]
  },
  {
   "cell_type": "code",
   "execution_count": null,
   "metadata": {},
   "outputs": [],
   "source": [
    "active_paths = [2, 4, 5]\n",
    "reduced_X = X[:, active_paths]\n",
    "reduced_X_stacked = np.block([[reduced_X] * s_samples] * s_samples)\n",
    "\n",
    "model = sm.GLM(LOG1PLINK(y_stacked), reduced_X_stacked, family=Gaussian2(link=Log1pLink()))\n",
    "results = model.fit()\n",
    "\n",
    "print(results.summary())"
   ]
  },
  {
   "cell_type": "code",
   "execution_count": null,
   "metadata": {},
   "outputs": [],
   "source": [
    "active_paths = [4, 5]\n",
    "reduced_X = X[:, active_paths]\n",
    "reduced_X_stacked = np.block([[reduced_X] * s_samples] * s_samples)\n",
    "\n",
    "model = sm.GLM(LOG1PLINK(y_stacked), reduced_X_stacked, family=Gaussian2(link=Log1pLink()))\n",
    "results = model.fit()\n",
    "\n",
    "print(results.summary())"
   ]
  }
 ],
 "metadata": {
  "kernelspec": {
   "display_name": "toolz5",
   "language": "python",
   "name": "toolz5"
  },
  "language_info": {
   "codemirror_mode": {
    "name": "ipython",
    "version": 3
   },
   "file_extension": ".py",
   "mimetype": "text/x-python",
   "name": "python",
   "nbconvert_exporter": "python",
   "pygments_lexer": "ipython3",
   "version": "3.10.13"
  }
 },
 "nbformat": 4,
 "nbformat_minor": 5
}